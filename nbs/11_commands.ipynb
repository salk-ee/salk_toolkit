{
 "cells": [
  {
   "cell_type": "markdown",
   "metadata": {},
   "source": [
    "# Commands\n",
    "> Command line tools"
   ]
  },
  {
   "cell_type": "code",
   "execution_count": null,
   "metadata": {},
   "outputs": [],
   "source": [
    "#| default_exp commands"
   ]
  },
  {
   "cell_type": "code",
   "execution_count": null,
   "metadata": {},
   "outputs": [],
   "source": [
    "#| hide\n",
    "from nbdev.showdoc import *\n",
    "from fastcore.test import *"
   ]
  },
  {
   "cell_type": "code",
   "execution_count": null,
   "metadata": {},
   "outputs": [],
   "source": [
    "#| exporti\n",
    "\n",
    "# Keep this list minimal as this py will actually be executed\n",
    "import os,sys"
   ]
  },
  {
   "cell_type": "markdown",
   "metadata": {},
   "source": [
    "# STK Explorer\n",
    "i.e. run explorer streamlit app from anywhere with stk_explorer command"
   ]
  },
  {
   "cell_type": "code",
   "execution_count": null,
   "metadata": {},
   "outputs": [],
   "source": [
    "#| export\n",
    "\n",
    "# Run explorer app\n",
    "def streamlit_fn_factory(relpath, curpath):\n",
    "    def run_streamlit_fn_fn():\n",
    "        import subprocess\n",
    "        filename = os.path.join(curpath, relpath)\n",
    "\n",
    "        subprocess.run(['streamlit', 'run', filename] + sys.argv[1:])\n",
    "    return run_streamlit_fn_fn\n",
    "\n",
    "\n",
    "# Run explorer app\n",
    "run_explorer = streamlit_fn_factory('./explorer.py',os.path.dirname(__file__))"
   ]
  },
  {
   "cell_type": "markdown",
   "metadata": {},
   "source": [
    "# Translate dashboard\n",
    "Use deepl to translate a dashboard with translate_stk_dashboard"
   ]
  },
  {
   "cell_type": "code",
   "execution_count": null,
   "metadata": {},
   "outputs": [],
   "source": [
    "#| export\n",
    "\n",
    "\n",
    "# Translate a pot file using generic tfunc\n",
    "# Could be useful if you don't want to use deepl\n",
    "def translate_pot(template, dest, t_func, sources=[]):\n",
    "    import polib\n",
    "    from tqdm import tqdm\n",
    "    from collections import defaultdict\n",
    "    pot  = polib.pofile(template)\n",
    "\n",
    "    if os.path.exists(dest):\n",
    "        po  = polib.pofile(dest)\n",
    "        if dest not in sources: sources.append(dest) # For copying between contexts\n",
    "    else:\n",
    "        po = polib.POFile()\n",
    "        po.metadata = pot.metadata\n",
    "\n",
    "    todo = defaultdict(list)\n",
    "    todo_msgstr = {}\n",
    "\n",
    "    existing = { (entry.msgctxt,entry.msgid) for entry in po }\n",
    "\n",
    "    for entry in pot:\n",
    "        if (entry.msgctxt,entry.msgid) in existing: continue\n",
    "        todo[entry.msgid].append(entry)\n",
    "\n",
    "    # Go through sources and add translations found there to the pot\n",
    "    if sources and len(todo) > 0:\n",
    "        n_existing = len(existing)\n",
    "        for source in tqdm(sources,desc='Checking existing translations'):\n",
    "            spo = polib.pofile(source)\n",
    "            for entry in spo:\n",
    "                if entry.msgid not in todo: continue\n",
    "\n",
    "                for tentry in todo[entry.msgid]:\n",
    "                    tentry.msgstr = entry.msgstr\n",
    "                    tentry.tcomment = entry.tcomment\n",
    "                    po.append(tentry)\n",
    "                    existing.add((tentry.msgctxt,tentry.msgid))\n",
    "                del todo[entry.msgid]\n",
    "\n",
    "        n_found = len(existing) - n_existing\n",
    "        if n_found: print(f'Found {n_found} translations in {sources}')\n",
    "\n",
    "    progress = tqdm(pot,desc='Translating',total=len(todo))\n",
    "\n",
    "    try:\n",
    "        for msgid in todo:\n",
    "            msgstr = todo[msgid][0].msgstr\n",
    "            if not msgstr: continue\n",
    "            tmsgstr = t_func(msgstr)\n",
    "            for tentry in todo[msgid]:\n",
    "                tentry.msgstr = tmsgstr\n",
    "                po.append(tentry)\n",
    "            progress.update(1)\n",
    "\n",
    "    except KeyboardInterrupt: # Ctrl-c\n",
    "        print('Keyboard interrupt, finishing early and saving partial results')\n",
    "\n",
    "    progress.close()\n",
    "\n",
    "    po.save(dest)"
   ]
  },
  {
   "cell_type": "code",
   "execution_count": null,
   "metadata": {},
   "outputs": [],
   "source": [
    "#| export\n",
    "\n",
    "# Translate a dashboard using deepl\n",
    "def translate_dashboard_fn(dashboard_file, target_lang, deepl_key, context=None, source_lang='en'):\n",
    "    import deepl # requires this, but not installed with salk_toolkit\n",
    "\n",
    "    apppath = os.path.splitext(dashboard_file)[0]\n",
    "    path, app = os.path.split(apppath)\n",
    "\n",
    "    translator = deepl.Translator(deepl_key)\n",
    "    t_func = lambda txt: translator.translate_text(txt,\n",
    "                            source_lang=source_lang,\n",
    "                            target_lang=target_lang,\n",
    "                            context=context).text\n",
    "\n",
    "    print(f\"Translating {app} to {target_lang}\")\n",
    "\n",
    "    locale_dir = os.path.join(path, f'locale/{target_lang}')\n",
    "    if not os.path.exists(locale_dir): os.mkdir(locale_dir)\n",
    "\n",
    "    pot_loc = os.path.join(path, f'locale/{app}.pot')\n",
    "    po_loc = os.path.join(path, f'locale/{target_lang}/{app}.po')\n",
    "\n",
    "    print(f\"Template file: {pot_loc}\")\n",
    "    print(f\"Result file: {po_loc}\")\n",
    "\n",
    "    # Find other pot files in locale/{target_lang}/ to use as translation sources\n",
    "    sources = []\n",
    "    for f in os.listdir(locale_dir):\n",
    "        if f.endswith('.po') and f != f'{app}.po':\n",
    "            sources.append(os.path.join(locale_dir, f))\n",
    "    if len(sources) > 0:\n",
    "        slist = [ os.path.basename(s) for s in sources ]\n",
    "        print(f\"Using {len(sources)} extra sources: {', '.join(slist)}\")\n",
    "\n",
    "    translate_pot(pot_loc, po_loc, t_func, sources)"
   ]
  },
  {
   "cell_type": "code",
   "execution_count": null,
   "metadata": {},
   "outputs": [],
   "source": [
    "#| export\n",
    "\n",
    "def translate_dashboard():\n",
    "\n",
    "    if len(sys.argv)<4:\n",
    "        print(\"Requires three parameters: <deepl auth key> <dashboard file name> <language>\")\n",
    "        print(\"Additional parameters are <'context'> <source language>\")\n",
    "        sys.exit()\n",
    "\n",
    "    deepl_key = sys.argv[1]\n",
    "    dashboard_file = sys.argv[2]\n",
    "    target_lang = sys.argv[3]\n",
    "    context = sys.argv[4] if len(sys.argv)>4 else None\n",
    "    source_lang = sys.argv[5] if len(sys.argv)>5 else 'en'\n",
    "\n",
    "    translate_dashboard_fn(dashboard_file, target_lang, deepl_key, context=context, source_lang=source_lang)"
   ]
  },
  {
   "cell_type": "code",
   "execution_count": null,
   "metadata": {},
   "outputs": [],
   "source": [
    "#| hide\n",
    "import nbdev; nbdev.nbdev_export()"
   ]
  }
 ],
 "metadata": {
  "kernelspec": {
   "display_name": "Python 3 with Fil",
   "language": "python",
   "name": "filprofile"
  },
  "language_info": {
   "codemirror_mode": {
    "name": "ipython",
    "version": 3
   },
   "file_extension": ".py",
   "mimetype": "text/x-python",
   "name": "python",
   "nbconvert_exporter": "python",
   "pygments_lexer": "ipython3",
   "version": "3.9.13"
  }
 },
 "nbformat": 4,
 "nbformat_minor": 4
}
